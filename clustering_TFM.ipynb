{
  "nbformat": 4,
  "nbformat_minor": 0,
  "metadata": {
    "colab": {
      "name": "clustering TFM",
      "provenance": []
    },
    "kernelspec": {
      "name": "python3",
      "display_name": "Python 3"
    },
    "language_info": {
      "name": "python"
    }
  },
  "cells": [
    {
      "cell_type": "code",
      "source": [
        "%matplotlib inline\n",
        "import numpy as np\n",
        "import matplotlib.pyplot as plt\n",
        "import pandas as pd\n",
        "from sklearn.ensemble import RandomForestClassifier"
      ],
      "metadata": {
        "id": "91r_H2VYBgdm"
      },
      "execution_count": null,
      "outputs": []
    },
    {
      "cell_type": "code",
      "source": [
        "from matplotlib.pyplot import matplotlib\n",
        "matplotlib.use('TkAgg')\n",
        "import matplotlib.pyplot as plt\n",
        "from scipy.cluster.hierarchy import dendrogram, linkage\n",
        "import numpy as np\n",
        "plt.rcParams['figure.figsize'] = [8, 8]\n",
        "np.set_printoptions(precision=5, suppress=True)  # suppress scientific float notation"
      ],
      "metadata": {
        "id": "oetoLwvEpaXJ"
      },
      "execution_count": null,
      "outputs": []
    },
    {
      "cell_type": "code",
      "source": [
        "from mlxtend.plotting import plot_decision_regions\n",
        "import numpy as np\n",
        "import pandas as pd\n",
        "import matplotlib.pyplot as plt\n",
        "import seaborn as sns\n",
        "sns.set()\n",
        "import warnings\n",
        "warnings.filterwarnings('ignore')\n",
        "%matplotlib inline"
      ],
      "metadata": {
        "id": "tlk8c7w4pR2e"
      },
      "execution_count": null,
      "outputs": []
    },
    {
      "cell_type": "code",
      "source": [
        "# Cargamos el dataset\n",
        "df= pd.read_csv(\"/content/geor.csv\")\n",
        "# Descripción genereal del conjunto de datos\n",
        "df.describe()"
      ],
      "metadata": {
        "id": "PAJT_41aCC9M",
        "colab": {
          "base_uri": "https://localhost:8080/",
          "height": 300
        },
        "outputId": "aa2bf914-e657-4dd3-9aa5-bb66ca1054dd"
      },
      "execution_count": null,
      "outputs": [
        {
          "output_type": "execute_result",
          "data": {
            "text/plain": [
              "          latitud    longitud\n",
              "count  187.000000  187.000000\n",
              "mean     4.721811  -74.073806\n",
              "std      0.073056    0.046181\n",
              "min      4.543164  -74.241942\n",
              "25%      4.676208  -74.097762\n",
              "50%      4.732370  -74.059450\n",
              "75%      4.757585  -74.037777\n",
              "max      5.017259  -73.994392"
            ],
            "text/html": [
              "\n",
              "  <div id=\"df-ae5202d8-47e4-40f0-bbfa-5643b2c0fc91\">\n",
              "    <div class=\"colab-df-container\">\n",
              "      <div>\n",
              "<style scoped>\n",
              "    .dataframe tbody tr th:only-of-type {\n",
              "        vertical-align: middle;\n",
              "    }\n",
              "\n",
              "    .dataframe tbody tr th {\n",
              "        vertical-align: top;\n",
              "    }\n",
              "\n",
              "    .dataframe thead th {\n",
              "        text-align: right;\n",
              "    }\n",
              "</style>\n",
              "<table border=\"1\" class=\"dataframe\">\n",
              "  <thead>\n",
              "    <tr style=\"text-align: right;\">\n",
              "      <th></th>\n",
              "      <th>latitud</th>\n",
              "      <th>longitud</th>\n",
              "    </tr>\n",
              "  </thead>\n",
              "  <tbody>\n",
              "    <tr>\n",
              "      <th>count</th>\n",
              "      <td>187.000000</td>\n",
              "      <td>187.000000</td>\n",
              "    </tr>\n",
              "    <tr>\n",
              "      <th>mean</th>\n",
              "      <td>4.721811</td>\n",
              "      <td>-74.073806</td>\n",
              "    </tr>\n",
              "    <tr>\n",
              "      <th>std</th>\n",
              "      <td>0.073056</td>\n",
              "      <td>0.046181</td>\n",
              "    </tr>\n",
              "    <tr>\n",
              "      <th>min</th>\n",
              "      <td>4.543164</td>\n",
              "      <td>-74.241942</td>\n",
              "    </tr>\n",
              "    <tr>\n",
              "      <th>25%</th>\n",
              "      <td>4.676208</td>\n",
              "      <td>-74.097762</td>\n",
              "    </tr>\n",
              "    <tr>\n",
              "      <th>50%</th>\n",
              "      <td>4.732370</td>\n",
              "      <td>-74.059450</td>\n",
              "    </tr>\n",
              "    <tr>\n",
              "      <th>75%</th>\n",
              "      <td>4.757585</td>\n",
              "      <td>-74.037777</td>\n",
              "    </tr>\n",
              "    <tr>\n",
              "      <th>max</th>\n",
              "      <td>5.017259</td>\n",
              "      <td>-73.994392</td>\n",
              "    </tr>\n",
              "  </tbody>\n",
              "</table>\n",
              "</div>\n",
              "      <button class=\"colab-df-convert\" onclick=\"convertToInteractive('df-ae5202d8-47e4-40f0-bbfa-5643b2c0fc91')\"\n",
              "              title=\"Convert this dataframe to an interactive table.\"\n",
              "              style=\"display:none;\">\n",
              "        \n",
              "  <svg xmlns=\"http://www.w3.org/2000/svg\" height=\"24px\"viewBox=\"0 0 24 24\"\n",
              "       width=\"24px\">\n",
              "    <path d=\"M0 0h24v24H0V0z\" fill=\"none\"/>\n",
              "    <path d=\"M18.56 5.44l.94 2.06.94-2.06 2.06-.94-2.06-.94-.94-2.06-.94 2.06-2.06.94zm-11 1L8.5 8.5l.94-2.06 2.06-.94-2.06-.94L8.5 2.5l-.94 2.06-2.06.94zm10 10l.94 2.06.94-2.06 2.06-.94-2.06-.94-.94-2.06-.94 2.06-2.06.94z\"/><path d=\"M17.41 7.96l-1.37-1.37c-.4-.4-.92-.59-1.43-.59-.52 0-1.04.2-1.43.59L10.3 9.45l-7.72 7.72c-.78.78-.78 2.05 0 2.83L4 21.41c.39.39.9.59 1.41.59.51 0 1.02-.2 1.41-.59l7.78-7.78 2.81-2.81c.8-.78.8-2.07 0-2.86zM5.41 20L4 18.59l7.72-7.72 1.47 1.35L5.41 20z\"/>\n",
              "  </svg>\n",
              "      </button>\n",
              "      \n",
              "  <style>\n",
              "    .colab-df-container {\n",
              "      display:flex;\n",
              "      flex-wrap:wrap;\n",
              "      gap: 12px;\n",
              "    }\n",
              "\n",
              "    .colab-df-convert {\n",
              "      background-color: #E8F0FE;\n",
              "      border: none;\n",
              "      border-radius: 50%;\n",
              "      cursor: pointer;\n",
              "      display: none;\n",
              "      fill: #1967D2;\n",
              "      height: 32px;\n",
              "      padding: 0 0 0 0;\n",
              "      width: 32px;\n",
              "    }\n",
              "\n",
              "    .colab-df-convert:hover {\n",
              "      background-color: #E2EBFA;\n",
              "      box-shadow: 0px 1px 2px rgba(60, 64, 67, 0.3), 0px 1px 3px 1px rgba(60, 64, 67, 0.15);\n",
              "      fill: #174EA6;\n",
              "    }\n",
              "\n",
              "    [theme=dark] .colab-df-convert {\n",
              "      background-color: #3B4455;\n",
              "      fill: #D2E3FC;\n",
              "    }\n",
              "\n",
              "    [theme=dark] .colab-df-convert:hover {\n",
              "      background-color: #434B5C;\n",
              "      box-shadow: 0px 1px 3px 1px rgba(0, 0, 0, 0.15);\n",
              "      filter: drop-shadow(0px 1px 2px rgba(0, 0, 0, 0.3));\n",
              "      fill: #FFFFFF;\n",
              "    }\n",
              "  </style>\n",
              "\n",
              "      <script>\n",
              "        const buttonEl =\n",
              "          document.querySelector('#df-ae5202d8-47e4-40f0-bbfa-5643b2c0fc91 button.colab-df-convert');\n",
              "        buttonEl.style.display =\n",
              "          google.colab.kernel.accessAllowed ? 'block' : 'none';\n",
              "\n",
              "        async function convertToInteractive(key) {\n",
              "          const element = document.querySelector('#df-ae5202d8-47e4-40f0-bbfa-5643b2c0fc91');\n",
              "          const dataTable =\n",
              "            await google.colab.kernel.invokeFunction('convertToInteractive',\n",
              "                                                     [key], {});\n",
              "          if (!dataTable) return;\n",
              "\n",
              "          const docLinkHtml = 'Like what you see? Visit the ' +\n",
              "            '<a target=\"_blank\" href=https://colab.research.google.com/notebooks/data_table.ipynb>data table notebook</a>'\n",
              "            + ' to learn more about interactive tables.';\n",
              "          element.innerHTML = '';\n",
              "          dataTable['output_type'] = 'display_data';\n",
              "          await google.colab.output.renderOutput(dataTable, element);\n",
              "          const docLink = document.createElement('div');\n",
              "          docLink.innerHTML = docLinkHtml;\n",
              "          element.appendChild(docLink);\n",
              "        }\n",
              "      </script>\n",
              "    </div>\n",
              "  </div>\n",
              "  "
            ]
          },
          "metadata": {},
          "execution_count": 5
        }
      ]
    },
    {
      "cell_type": "code",
      "source": [
        "df.head()"
      ],
      "metadata": {
        "colab": {
          "base_uri": "https://localhost:8080/",
          "height": 206
        },
        "id": "dtoqfvqMCLwU",
        "outputId": "b14585df-5382-43ae-8cd4-c45d7b9ffdac"
      },
      "execution_count": null,
      "outputs": [
        {
          "output_type": "execute_result",
          "data": {
            "text/plain": [
              "                            Dirección   latitud   longitud\n",
              "0          CL 185 A BIS 8 58, USAQUEN  4.761922 -74.030086\n",
              "1        DUAG 77 B 116 B 42, ENGATIVA  4.722653 -74.128538\n",
              "2          DIAG 1 6 65, SAN CRISTOBAL  4.722653 -74.128538\n",
              "3  CALLE 65 B BIS SUR # 77 K 33, BOSA  4.599085 -74.183101\n",
              "4  CALLE 43 18 21 APTO 101, CHAPINERO  4.631441 -74.071485"
            ],
            "text/html": [
              "\n",
              "  <div id=\"df-3ba29644-7fa0-4ff1-ae0e-873e928db986\">\n",
              "    <div class=\"colab-df-container\">\n",
              "      <div>\n",
              "<style scoped>\n",
              "    .dataframe tbody tr th:only-of-type {\n",
              "        vertical-align: middle;\n",
              "    }\n",
              "\n",
              "    .dataframe tbody tr th {\n",
              "        vertical-align: top;\n",
              "    }\n",
              "\n",
              "    .dataframe thead th {\n",
              "        text-align: right;\n",
              "    }\n",
              "</style>\n",
              "<table border=\"1\" class=\"dataframe\">\n",
              "  <thead>\n",
              "    <tr style=\"text-align: right;\">\n",
              "      <th></th>\n",
              "      <th>Dirección</th>\n",
              "      <th>latitud</th>\n",
              "      <th>longitud</th>\n",
              "    </tr>\n",
              "  </thead>\n",
              "  <tbody>\n",
              "    <tr>\n",
              "      <th>0</th>\n",
              "      <td>CL 185 A BIS 8 58, USAQUEN</td>\n",
              "      <td>4.761922</td>\n",
              "      <td>-74.030086</td>\n",
              "    </tr>\n",
              "    <tr>\n",
              "      <th>1</th>\n",
              "      <td>DUAG 77 B 116 B 42, ENGATIVA</td>\n",
              "      <td>4.722653</td>\n",
              "      <td>-74.128538</td>\n",
              "    </tr>\n",
              "    <tr>\n",
              "      <th>2</th>\n",
              "      <td>DIAG 1 6 65, SAN CRISTOBAL</td>\n",
              "      <td>4.722653</td>\n",
              "      <td>-74.128538</td>\n",
              "    </tr>\n",
              "    <tr>\n",
              "      <th>3</th>\n",
              "      <td>CALLE 65 B BIS SUR # 77 K 33, BOSA</td>\n",
              "      <td>4.599085</td>\n",
              "      <td>-74.183101</td>\n",
              "    </tr>\n",
              "    <tr>\n",
              "      <th>4</th>\n",
              "      <td>CALLE 43 18 21 APTO 101, CHAPINERO</td>\n",
              "      <td>4.631441</td>\n",
              "      <td>-74.071485</td>\n",
              "    </tr>\n",
              "  </tbody>\n",
              "</table>\n",
              "</div>\n",
              "      <button class=\"colab-df-convert\" onclick=\"convertToInteractive('df-3ba29644-7fa0-4ff1-ae0e-873e928db986')\"\n",
              "              title=\"Convert this dataframe to an interactive table.\"\n",
              "              style=\"display:none;\">\n",
              "        \n",
              "  <svg xmlns=\"http://www.w3.org/2000/svg\" height=\"24px\"viewBox=\"0 0 24 24\"\n",
              "       width=\"24px\">\n",
              "    <path d=\"M0 0h24v24H0V0z\" fill=\"none\"/>\n",
              "    <path d=\"M18.56 5.44l.94 2.06.94-2.06 2.06-.94-2.06-.94-.94-2.06-.94 2.06-2.06.94zm-11 1L8.5 8.5l.94-2.06 2.06-.94-2.06-.94L8.5 2.5l-.94 2.06-2.06.94zm10 10l.94 2.06.94-2.06 2.06-.94-2.06-.94-.94-2.06-.94 2.06-2.06.94z\"/><path d=\"M17.41 7.96l-1.37-1.37c-.4-.4-.92-.59-1.43-.59-.52 0-1.04.2-1.43.59L10.3 9.45l-7.72 7.72c-.78.78-.78 2.05 0 2.83L4 21.41c.39.39.9.59 1.41.59.51 0 1.02-.2 1.41-.59l7.78-7.78 2.81-2.81c.8-.78.8-2.07 0-2.86zM5.41 20L4 18.59l7.72-7.72 1.47 1.35L5.41 20z\"/>\n",
              "  </svg>\n",
              "      </button>\n",
              "      \n",
              "  <style>\n",
              "    .colab-df-container {\n",
              "      display:flex;\n",
              "      flex-wrap:wrap;\n",
              "      gap: 12px;\n",
              "    }\n",
              "\n",
              "    .colab-df-convert {\n",
              "      background-color: #E8F0FE;\n",
              "      border: none;\n",
              "      border-radius: 50%;\n",
              "      cursor: pointer;\n",
              "      display: none;\n",
              "      fill: #1967D2;\n",
              "      height: 32px;\n",
              "      padding: 0 0 0 0;\n",
              "      width: 32px;\n",
              "    }\n",
              "\n",
              "    .colab-df-convert:hover {\n",
              "      background-color: #E2EBFA;\n",
              "      box-shadow: 0px 1px 2px rgba(60, 64, 67, 0.3), 0px 1px 3px 1px rgba(60, 64, 67, 0.15);\n",
              "      fill: #174EA6;\n",
              "    }\n",
              "\n",
              "    [theme=dark] .colab-df-convert {\n",
              "      background-color: #3B4455;\n",
              "      fill: #D2E3FC;\n",
              "    }\n",
              "\n",
              "    [theme=dark] .colab-df-convert:hover {\n",
              "      background-color: #434B5C;\n",
              "      box-shadow: 0px 1px 3px 1px rgba(0, 0, 0, 0.15);\n",
              "      filter: drop-shadow(0px 1px 2px rgba(0, 0, 0, 0.3));\n",
              "      fill: #FFFFFF;\n",
              "    }\n",
              "  </style>\n",
              "\n",
              "      <script>\n",
              "        const buttonEl =\n",
              "          document.querySelector('#df-3ba29644-7fa0-4ff1-ae0e-873e928db986 button.colab-df-convert');\n",
              "        buttonEl.style.display =\n",
              "          google.colab.kernel.accessAllowed ? 'block' : 'none';\n",
              "\n",
              "        async function convertToInteractive(key) {\n",
              "          const element = document.querySelector('#df-3ba29644-7fa0-4ff1-ae0e-873e928db986');\n",
              "          const dataTable =\n",
              "            await google.colab.kernel.invokeFunction('convertToInteractive',\n",
              "                                                     [key], {});\n",
              "          if (!dataTable) return;\n",
              "\n",
              "          const docLinkHtml = 'Like what you see? Visit the ' +\n",
              "            '<a target=\"_blank\" href=https://colab.research.google.com/notebooks/data_table.ipynb>data table notebook</a>'\n",
              "            + ' to learn more about interactive tables.';\n",
              "          element.innerHTML = '';\n",
              "          dataTable['output_type'] = 'display_data';\n",
              "          await google.colab.output.renderOutput(dataTable, element);\n",
              "          const docLink = document.createElement('div');\n",
              "          docLink.innerHTML = docLinkHtml;\n",
              "          element.appendChild(docLink);\n",
              "        }\n",
              "      </script>\n",
              "    </div>\n",
              "  </div>\n",
              "  "
            ]
          },
          "metadata": {},
          "execution_count": 6
        }
      ]
    },
    {
      "cell_type": "code",
      "source": [
        "df.info(verbose=True)"
      ],
      "metadata": {
        "colab": {
          "base_uri": "https://localhost:8080/"
        },
        "id": "3uJSiGVUHxn9",
        "outputId": "63a65ca8-5466-4431-f98b-8ce6ac6316de"
      },
      "execution_count": null,
      "outputs": [
        {
          "output_type": "stream",
          "name": "stdout",
          "text": [
            "<class 'pandas.core.frame.DataFrame'>\n",
            "RangeIndex: 187 entries, 0 to 186\n",
            "Data columns (total 3 columns):\n",
            " #   Column     Non-Null Count  Dtype  \n",
            "---  ------     --------------  -----  \n",
            " 0   Dirección  187 non-null    object \n",
            " 1   latitud    187 non-null    float64\n",
            " 2   longitud   187 non-null    float64\n",
            "dtypes: float64(2), object(1)\n",
            "memory usage: 4.5+ KB\n"
          ]
        }
      ]
    },
    {
      "cell_type": "code",
      "source": [
        "df.describe().T"
      ],
      "metadata": {
        "colab": {
          "base_uri": "https://localhost:8080/",
          "height": 112
        },
        "id": "4ZUc6ImjID0T",
        "outputId": "141f5614-f5c8-4ff1-ca2b-efd3f4a7765b"
      },
      "execution_count": null,
      "outputs": [
        {
          "output_type": "execute_result",
          "data": {
            "text/plain": [
              "          count       mean       std        min        25%       50%  \\\n",
              "latitud   187.0   4.721811  0.073056   4.543164   4.676208   4.73237   \n",
              "longitud  187.0 -74.073806  0.046181 -74.241942 -74.097762 -74.05945   \n",
              "\n",
              "                75%        max  \n",
              "latitud    4.757585   5.017259  \n",
              "longitud -74.037777 -73.994392  "
            ],
            "text/html": [
              "\n",
              "  <div id=\"df-88060805-3649-4561-a918-9c8a913bca72\">\n",
              "    <div class=\"colab-df-container\">\n",
              "      <div>\n",
              "<style scoped>\n",
              "    .dataframe tbody tr th:only-of-type {\n",
              "        vertical-align: middle;\n",
              "    }\n",
              "\n",
              "    .dataframe tbody tr th {\n",
              "        vertical-align: top;\n",
              "    }\n",
              "\n",
              "    .dataframe thead th {\n",
              "        text-align: right;\n",
              "    }\n",
              "</style>\n",
              "<table border=\"1\" class=\"dataframe\">\n",
              "  <thead>\n",
              "    <tr style=\"text-align: right;\">\n",
              "      <th></th>\n",
              "      <th>count</th>\n",
              "      <th>mean</th>\n",
              "      <th>std</th>\n",
              "      <th>min</th>\n",
              "      <th>25%</th>\n",
              "      <th>50%</th>\n",
              "      <th>75%</th>\n",
              "      <th>max</th>\n",
              "    </tr>\n",
              "  </thead>\n",
              "  <tbody>\n",
              "    <tr>\n",
              "      <th>latitud</th>\n",
              "      <td>187.0</td>\n",
              "      <td>4.721811</td>\n",
              "      <td>0.073056</td>\n",
              "      <td>4.543164</td>\n",
              "      <td>4.676208</td>\n",
              "      <td>4.73237</td>\n",
              "      <td>4.757585</td>\n",
              "      <td>5.017259</td>\n",
              "    </tr>\n",
              "    <tr>\n",
              "      <th>longitud</th>\n",
              "      <td>187.0</td>\n",
              "      <td>-74.073806</td>\n",
              "      <td>0.046181</td>\n",
              "      <td>-74.241942</td>\n",
              "      <td>-74.097762</td>\n",
              "      <td>-74.05945</td>\n",
              "      <td>-74.037777</td>\n",
              "      <td>-73.994392</td>\n",
              "    </tr>\n",
              "  </tbody>\n",
              "</table>\n",
              "</div>\n",
              "      <button class=\"colab-df-convert\" onclick=\"convertToInteractive('df-88060805-3649-4561-a918-9c8a913bca72')\"\n",
              "              title=\"Convert this dataframe to an interactive table.\"\n",
              "              style=\"display:none;\">\n",
              "        \n",
              "  <svg xmlns=\"http://www.w3.org/2000/svg\" height=\"24px\"viewBox=\"0 0 24 24\"\n",
              "       width=\"24px\">\n",
              "    <path d=\"M0 0h24v24H0V0z\" fill=\"none\"/>\n",
              "    <path d=\"M18.56 5.44l.94 2.06.94-2.06 2.06-.94-2.06-.94-.94-2.06-.94 2.06-2.06.94zm-11 1L8.5 8.5l.94-2.06 2.06-.94-2.06-.94L8.5 2.5l-.94 2.06-2.06.94zm10 10l.94 2.06.94-2.06 2.06-.94-2.06-.94-.94-2.06-.94 2.06-2.06.94z\"/><path d=\"M17.41 7.96l-1.37-1.37c-.4-.4-.92-.59-1.43-.59-.52 0-1.04.2-1.43.59L10.3 9.45l-7.72 7.72c-.78.78-.78 2.05 0 2.83L4 21.41c.39.39.9.59 1.41.59.51 0 1.02-.2 1.41-.59l7.78-7.78 2.81-2.81c.8-.78.8-2.07 0-2.86zM5.41 20L4 18.59l7.72-7.72 1.47 1.35L5.41 20z\"/>\n",
              "  </svg>\n",
              "      </button>\n",
              "      \n",
              "  <style>\n",
              "    .colab-df-container {\n",
              "      display:flex;\n",
              "      flex-wrap:wrap;\n",
              "      gap: 12px;\n",
              "    }\n",
              "\n",
              "    .colab-df-convert {\n",
              "      background-color: #E8F0FE;\n",
              "      border: none;\n",
              "      border-radius: 50%;\n",
              "      cursor: pointer;\n",
              "      display: none;\n",
              "      fill: #1967D2;\n",
              "      height: 32px;\n",
              "      padding: 0 0 0 0;\n",
              "      width: 32px;\n",
              "    }\n",
              "\n",
              "    .colab-df-convert:hover {\n",
              "      background-color: #E2EBFA;\n",
              "      box-shadow: 0px 1px 2px rgba(60, 64, 67, 0.3), 0px 1px 3px 1px rgba(60, 64, 67, 0.15);\n",
              "      fill: #174EA6;\n",
              "    }\n",
              "\n",
              "    [theme=dark] .colab-df-convert {\n",
              "      background-color: #3B4455;\n",
              "      fill: #D2E3FC;\n",
              "    }\n",
              "\n",
              "    [theme=dark] .colab-df-convert:hover {\n",
              "      background-color: #434B5C;\n",
              "      box-shadow: 0px 1px 3px 1px rgba(0, 0, 0, 0.15);\n",
              "      filter: drop-shadow(0px 1px 2px rgba(0, 0, 0, 0.3));\n",
              "      fill: #FFFFFF;\n",
              "    }\n",
              "  </style>\n",
              "\n",
              "      <script>\n",
              "        const buttonEl =\n",
              "          document.querySelector('#df-88060805-3649-4561-a918-9c8a913bca72 button.colab-df-convert');\n",
              "        buttonEl.style.display =\n",
              "          google.colab.kernel.accessAllowed ? 'block' : 'none';\n",
              "\n",
              "        async function convertToInteractive(key) {\n",
              "          const element = document.querySelector('#df-88060805-3649-4561-a918-9c8a913bca72');\n",
              "          const dataTable =\n",
              "            await google.colab.kernel.invokeFunction('convertToInteractive',\n",
              "                                                     [key], {});\n",
              "          if (!dataTable) return;\n",
              "\n",
              "          const docLinkHtml = 'Like what you see? Visit the ' +\n",
              "            '<a target=\"_blank\" href=https://colab.research.google.com/notebooks/data_table.ipynb>data table notebook</a>'\n",
              "            + ' to learn more about interactive tables.';\n",
              "          element.innerHTML = '';\n",
              "          dataTable['output_type'] = 'display_data';\n",
              "          await google.colab.output.renderOutput(dataTable, element);\n",
              "          const docLink = document.createElement('div');\n",
              "          docLink.innerHTML = docLinkHtml;\n",
              "          element.appendChild(docLink);\n",
              "        }\n",
              "      </script>\n",
              "    </div>\n",
              "  </div>\n",
              "  "
            ]
          },
          "metadata": {},
          "execution_count": 8
        }
      ]
    },
    {
      "cell_type": "code",
      "source": [
        "datas = df.iloc[: , [1,2]].values\n",
        "print(datas[:10])"
      ],
      "metadata": {
        "colab": {
          "base_uri": "https://localhost:8080/"
        },
        "id": "HcajTEg1If_E",
        "outputId": "344fbe39-a109-4dba-ac11-919257ea3f48"
      },
      "execution_count": null,
      "outputs": [
        {
          "output_type": "stream",
          "name": "stdout",
          "text": [
            "[[  4.76192 -74.03009]\n",
            " [  4.72265 -74.12854]\n",
            " [  4.72265 -74.12854]\n",
            " [  4.59908 -74.1831 ]\n",
            " [  4.63144 -74.07149]\n",
            " [  4.63144 -74.07149]\n",
            " [  4.64228 -74.09071]\n",
            " [  4.67369 -74.14367]\n",
            " [  4.60373 -74.18209]\n",
            " [  4.57952 -74.15743]]\n"
          ]
        }
      ]
    },
    {
      "cell_type": "code",
      "source": [
        "plt.scatter(datas[:,0], datas[:,1])\n",
        "plt.title('Localizaciones')\n",
        "plt.show()"
      ],
      "metadata": {
        "colab": {
          "base_uri": "https://localhost:8080/",
          "height": 284
        },
        "id": "fLHAsnCTIf7u",
        "outputId": "e890427a-8c8b-43d5-d4fb-644fc0df9456"
      },
      "execution_count": null,
      "outputs": [
        {
          "output_type": "display_data",
          "data": {
            "text/plain": [
              "<Figure size 432x288 with 1 Axes>"
            ],
            "image/png": "[encoded data removed]"
          },
          "metadata": {
            "needs_background": "light"
          }
        }
      ]
    },
    {
      "cell_type": "code",
      "source": [
        "Z=linkage(datas, method=\"ward\")\n",
        "\n",
        "Z"
      ],
      "metadata": {
        "colab": {
          "base_uri": "https://localhost:8080/"
        },
        "id": "nd23Y3BPTpFN",
        "outputId": "bcd7fb89-5047-4dd4-b310-c8d350fb8f64"
      },
      "execution_count": null,
      "outputs": [
        {
          "output_type": "execute_result",
          "data": {
            "text/plain": [
              "array([[  1.     ,   2.     ,   0.     ,   2.     ],\n",
              "       [  4.     ,   5.     ,   0.     ,   2.     ],\n",
              "       [  7.     ,  14.     ,   0.     ,   2.     ],\n",
              "       [ 48.     ,  49.     ,   0.     ,   2.     ],\n",
              "       [ 50.     , 190.     ,   0.     ,   3.     ],\n",
              "       [109.     , 110.     ,   0.     ,   2.     ],\n",
              "       [ 15.     , 189.     ,   0.     ,   3.     ],\n",
              "       [ 16.     , 193.     ,   0.     ,   4.     ],\n",
              "       [ 71.     , 125.     ,   0.     ,   2.     ],\n",
              "       [148.     , 195.     ,   0.     ,   3.     ],\n",
              "       [119.     , 120.     ,   0.     ,   2.     ],\n",
              "       [ 18.     ,  19.     ,   0.     ,   2.     ],\n",
              "       [ 58.     ,  59.     ,   0.     ,   2.     ],\n",
              "       [ 67.     ,  69.     ,   0.     ,   2.     ],\n",
              "       [ 36.     ,  37.     ,   0.     ,   2.     ],\n",
              "       [103.     , 159.     ,   0.     ,   2.     ],\n",
              "       [163.     , 202.     ,   0.     ,   3.     ],\n",
              "       [176.     , 203.     ,   0.     ,   4.     ],\n",
              "       [ 42.     ,  43.     ,   0.     ,   2.     ],\n",
              "       [164.     , 165.     ,   0.     ,   2.     ],\n",
              "       [184.     , 206.     ,   0.     ,   3.     ],\n",
              "       [ 81.     ,  89.     ,   0.     ,   2.     ],\n",
              "       [ 75.     , 144.     ,   0.00017,   2.     ],\n",
              "       [ 17.     , 139.     ,   0.00021,   2.     ],\n",
              "       [ 22.     ,  54.     ,   0.0004 ,   2.     ],\n",
              "       [172.     , 199.     ,   0.0004 ,   3.     ],\n",
              "       [ 61.     , 168.     ,   0.00045,   2.     ],\n",
              "       [ 83.     , 183.     ,   0.00051,   2.     ],\n",
              "       [ 31.     ,  85.     ,   0.00055,   2.     ],\n",
              "       [ 55.     ,  72.     ,   0.00073,   2.     ],\n",
              "       [ 24.     , 141.     ,   0.00076,   2.     ],\n",
              "       [140.     , 154.     ,   0.00077,   2.     ],\n",
              "       [209.     , 211.     ,   0.00088,   4.     ],\n",
              "       [127.     , 212.     ,   0.00094,   4.     ],\n",
              "       [ 28.     , 200.     ,   0.001  ,   3.     ],\n",
              "       [  0.     ,  25.     ,   0.00105,   2.     ],\n",
              "       [ 29.     , 220.     ,   0.00113,   5.     ],\n",
              "       [210.     , 219.     ,   0.00122,   6.     ],\n",
              "       [132.     , 218.     ,   0.00133,   3.     ],\n",
              "       [ 78.     , 133.     ,   0.00133,   2.     ],\n",
              "       [ 73.     , 134.     ,   0.00136,   2.     ],\n",
              "       [101.     , 160.     ,   0.00142,   2.     ],\n",
              "       [131.     , 173.     ,   0.00146,   2.     ],\n",
              "       [149.     , 155.     ,   0.00155,   2.     ],\n",
              "       [ 35.     , 214.     ,   0.00163,   3.     ],\n",
              "       [ 90.     , 178.     ,   0.00169,   2.     ],\n",
              "       [ 60.     , 182.     ,   0.0018 ,   2.     ],\n",
              "       [111.     , 181.     ,   0.0022 ,   2.     ],\n",
              "       [138.     , 216.     ,   0.00228,   3.     ],\n",
              "       [ 77.     , 153.     ,   0.00228,   2.     ],\n",
              "       [ 47.     , 232.     ,   0.00273,   3.     ],\n",
              "       [118.     , 228.     ,   0.00273,   3.     ],\n",
              "       [ 21.     ,  53.     ,   0.00283,   2.     ],\n",
              "       [ 23.     ,  96.     ,   0.00289,   2.     ],\n",
              "       [ 30.     , 231.     ,   0.00291,   4.     ],\n",
              "       [102.     , 167.     ,   0.00296,   2.     ],\n",
              "       [ 95.     , 221.     ,   0.00304,   4.     ],\n",
              "       [ 99.     , 152.     ,   0.00321,   2.     ],\n",
              "       [105.     , 122.     ,   0.00389,   2.     ],\n",
              "       [  6.     ,  51.     ,   0.00395,   2.     ],\n",
              "       [115.     , 241.     ,   0.00399,   5.     ],\n",
              "       [ 56.     , 136.     ,   0.00401,   2.     ],\n",
              "       [124.     , 145.     ,   0.00424,   2.     ],\n",
              "       [224.     , 233.     ,   0.00426,   8.     ],\n",
              "       [ 52.     , 226.     ,   0.00444,   3.     ],\n",
              "       [ 26.     , 156.     ,   0.0046 ,   2.     ],\n",
              "       [117.     , 238.     ,   0.00469,   4.     ],\n",
              "       [234.     , 237.     ,   0.00471,   5.     ],\n",
              "       [121.     , 169.     ,   0.00472,   2.     ],\n",
              "       [  3.     ,   8.     ,   0.00476,   2.     ],\n",
              "       [ 27.     , 215.     ,   0.00478,   3.     ],\n",
              "       [151.     , 235.     ,   0.00486,   4.     ],\n",
              "       [146.     , 197.     ,   0.00509,   3.     ],\n",
              "       [198.     , 239.     ,   0.00525,   4.     ],\n",
              "       [223.     , 250.     ,   0.00526,  13.     ],\n",
              "       [ 45.     ,  86.     ,   0.00567,   2.     ],\n",
              "       [107.     , 251.     ,   0.00585,   4.     ],\n",
              "       [ 11.     ,  93.     ,   0.00593,   2.     ],\n",
              "       [186.     , 262.     ,   0.00625,   3.     ],\n",
              "       [143.     , 236.     ,   0.00629,   3.     ],\n",
              "       [ 34.     , 114.     ,   0.00639,   2.     ],\n",
              "       [201.     , 204.     ,   0.00651,   6.     ],\n",
              "       [142.     , 180.     ,   0.00651,   2.     ],\n",
              "       [ 40.     , 229.     ,   0.00656,   3.     ],\n",
              "       [113.     , 171.     ,   0.00662,   2.     ],\n",
              "       [185.     , 240.     ,   0.00683,   3.     ],\n",
              "       [126.     , 268.     ,   0.00709,   7.     ],\n",
              "       [222.     , 247.     ,   0.00711,   7.     ],\n",
              "       [249.     , 271.     ,   0.00754,   4.     ],\n",
              "       [ 68.     , 106.     ,   0.00767,   2.     ],\n",
              "       [ 66.     , 194.     ,   0.00777,   5.     ],\n",
              "       [ 10.     , 112.     ,   0.00789,   2.     ],\n",
              "       [ 87.     , 175.     ,   0.00791,   2.     ],\n",
              "       [ 84.     , 158.     ,   0.00795,   2.     ],\n",
              "       [225.     , 245.     ,   0.00798,   5.     ],\n",
              "       [ 82.     ,  97.     ,   0.00847,   2.     ],\n",
              "       [243.     , 254.     ,   0.00885,   9.     ],\n",
              "       [ 80.     , 252.     ,   0.00889,   3.     ],\n",
              "       [ 20.     , 230.     ,   0.00899,   3.     ],\n",
              "       [157.     , 275.     ,   0.00902,   5.     ],\n",
              "       [170.     , 255.     ,   0.00908,   3.     ],\n",
              "       [104.     , 108.     ,   0.00913,   2.     ],\n",
              "       [123.     , 188.     ,   0.00926,   3.     ],\n",
              "       [ 94.     , 242.     ,   0.00986,   3.     ],\n",
              "       [248.     , 266.     ,   0.01027,   5.     ],\n",
              "       [128.     , 174.     ,   0.01044,   2.     ],\n",
              "       [100.     , 261.     ,   0.01072,  14.     ],\n",
              "       [130.     , 263.     ,   0.01108,   5.     ],\n",
              "       [ 33.     , 272.     ,   0.01109,   4.     ],\n",
              "       [ 44.     , 227.     ,   0.01138,   3.     ],\n",
              "       [ 79.     , 264.     ,   0.01162,   3.     ],\n",
              "       [ 63.     , 256.     ,   0.012  ,   3.     ],\n",
              "       [137.     , 260.     ,   0.01204,   5.     ],\n",
              "       [ 62.     , 147.     ,   0.01237,   2.     ],\n",
              "       [244.     , 269.     ,   0.01262,   4.     ],\n",
              "       [253.     , 284.     ,   0.0127 ,   7.     ],\n",
              "       [208.     , 267.     ,   0.01319,   4.     ],\n",
              "       [ 88.     , 297.     ,   0.01361,   4.     ],\n",
              "       [ 57.     , 187.     ,   0.01376,   3.     ],\n",
              "       [177.     , 196.     ,   0.01389,   4.     ],\n",
              "       [ 70.     , 213.     ,   0.014  ,   3.     ],\n",
              "       [162.     , 278.     ,   0.01433,   3.     ],\n",
              "       [ 46.     , 292.     ,   0.01537,   3.     ],\n",
              "       [ 74.     ,  76.     ,   0.01561,   2.     ],\n",
              "       [257.     , 274.     ,   0.01627,  10.     ],\n",
              "       [ 98.     , 290.     ,   0.01633,   4.     ],\n",
              "       [276.     , 291.     ,   0.01652,   7.     ],\n",
              "       [ 13.     ,  32.     ,   0.01726,   2.     ],\n",
              "       [270.     , 311.     ,   0.01761,  13.     ],\n",
              "       [288.     , 289.     ,   0.01829,   5.     ],\n",
              "       [283.     , 293.     ,   0.01837,  23.     ],\n",
              "       [166.     , 308.     ,   0.01879,   4.     ],\n",
              "       [135.     , 303.     ,   0.01902,   5.     ],\n",
              "       [150.     , 280.     ,   0.01991,   3.     ],\n",
              "       [161.     , 296.     ,   0.02041,   4.     ],\n",
              "       [258.     , 287.     ,   0.02135,   7.     ],\n",
              "       [217.     , 312.     ,   0.0227 ,   6.     ],\n",
              "       [285.     , 313.     ,   0.02282,  10.     ],\n",
              "       [286.     , 295.     ,   0.02324,   9.     ],\n",
              "       [ 64.     , 191.     ,   0.02329,   4.     ],\n",
              "       [279.     , 305.     ,   0.02427,   5.     ],\n",
              "       [259.     , 323.     ,   0.02579,   9.     ],\n",
              "       [265.     , 307.     ,   0.02628,   6.     ],\n",
              "       [ 91.     , 298.     ,   0.02688,   4.     ],\n",
              "       [ 41.     , 329.     ,   0.02851,   7.     ],\n",
              "       [192.     , 277.     ,   0.02889,   7.     ],\n",
              "       [179.     , 319.     ,   0.03048,   6.     ],\n",
              "       [116.     , 129.     ,   0.03097,   2.     ],\n",
              "       [ 38.     , 301.     ,   0.03102,   5.     ],\n",
              "       [281.     , 317.     ,   0.03152,  28.     ],\n",
              "       [294.     , 309.     ,   0.03457,   8.     ],\n",
              "       [246.     , 316.     ,   0.03744,   7.     ],\n",
              "       [  9.     ,  39.     ,   0.03886,   2.     ],\n",
              "       [304.     , 306.     ,   0.04013,   8.     ],\n",
              "       [314.     , 332.     ,   0.04285,   9.     ],\n",
              "       [326.     , 330.     ,   0.0429 ,   8.     ],\n",
              "       [207.     , 328.     ,   0.0434 ,  12.     ],\n",
              "       [322.     , 324.     ,   0.04502,  17.     ],\n",
              "       [315.     , 336.     ,   0.04546,  41.     ],\n",
              "       [299.     , 327.     ,   0.04971,  10.     ],\n",
              "       [302.     , 325.     ,   0.05113,  16.     ],\n",
              "       [320.     , 335.     ,   0.05189,   8.     ],\n",
              "       [ 12.     , 341.     ,   0.05672,  10.     ],\n",
              "       [310.     , 345.     ,   0.06089,  43.     ],\n",
              "       [340.     , 348.     ,   0.06361,  16.     ],\n",
              "       [273.     , 321.     ,   0.07196,  11.     ],\n",
              "       [318.     , 346.     ,   0.07905,  14.     ],\n",
              "       [300.     , 338.     ,   0.08844,   9.     ],\n",
              "       [337.     , 343.     ,   0.08929,  20.     ],\n",
              "       [333.     , 334.     ,   0.09288,   8.     ],\n",
              "       [ 65.     , 282.     ,   0.09806,   3.     ],\n",
              "       [339.     , 342.     ,   0.10243,  10.     ],\n",
              "       [347.     , 355.     ,   0.10821,  36.     ],\n",
              "       [344.     , 353.     ,   0.11599,  31.     ],\n",
              "       [331.     , 354.     ,   0.11926,  16.     ],\n",
              "       [205.     , 358.     ,   0.13304,  12.     ],\n",
              "       [ 92.     , 356.     ,   0.13488,   9.     ],\n",
              "       [351.     , 352.     ,   0.15997,  27.     ],\n",
              "       [350.     , 359.     ,   0.22595,  79.     ],\n",
              "       [349.     , 362.     ,   0.28457,  22.     ],\n",
              "       [357.     , 363.     ,   0.28625,  12.     ],\n",
              "       [361.     , 364.     ,   0.32211,  43.     ],\n",
              "       [360.     , 365.     ,   0.42534, 110.     ],\n",
              "       [366.     , 368.     ,   0.57273,  65.     ],\n",
              "       [367.     , 369.     ,   0.7463 , 122.     ],\n",
              "       [370.     , 371.     ,   1.08834, 187.     ]])"
            ]
          },
          "metadata": {},
          "execution_count": 11
        }
      ]
    },
    {
      "cell_type": "code",
      "source": [
        "from scipy.cluster.hierarchy import cophenet\n",
        "from scipy.spatial.distance import pdist\n",
        "\n",
        "\n",
        "c, coph_dists = cophenet(Z,pdist(datas))\n",
        "print(c)"
      ],
      "metadata": {
        "colab": {
          "base_uri": "https://localhost:8080/"
        },
        "id": "tl01ZjiPTsRs",
        "outputId": "63081dd9-fc2d-4dcd-88ba-845d554738de"
      },
      "execution_count": null,
      "outputs": [
        {
          "output_type": "stream",
          "name": "stdout",
          "text": [
            "0.591189009225403\n"
          ]
        }
      ]
    },
    {
      "cell_type": "code",
      "source": [
        "Y=linkage(datas, method=\"single\", metric=\"euclidean\")\n",
        "\n",
        "Y"
      ],
      "metadata": {
        "colab": {
          "base_uri": "https://localhost:8080/"
        },
        "id": "EMzg29WyT1Vc",
        "outputId": "24a0d5ad-e04a-4973-cbba-994693046226"
      },
      "execution_count": null,
      "outputs": [
        {
          "output_type": "execute_result",
          "data": {
            "text/plain": [
              "array([[ 58.     ,  59.     ,   0.     ,   2.     ],\n",
              "       [ 67.     ,  69.     ,   0.     ,   2.     ],\n",
              "       [119.     , 120.     ,   0.     ,   2.     ],\n",
              "       [ 18.     ,  19.     ,   0.     ,   2.     ],\n",
              "       [103.     , 159.     ,   0.     ,   2.     ],\n",
              "       [163.     , 191.     ,   0.     ,   3.     ],\n",
              "       [176.     , 192.     ,   0.     ,   4.     ],\n",
              "       [ 36.     ,  37.     ,   0.     ,   2.     ],\n",
              "       [  1.     ,   2.     ,   0.     ,   2.     ],\n",
              "       [  4.     ,   5.     ,   0.     ,   2.     ],\n",
              "       [ 71.     , 125.     ,   0.     ,   2.     ],\n",
              "       [148.     , 197.     ,   0.     ,   3.     ],\n",
              "       [164.     , 165.     ,   0.     ,   2.     ],\n",
              "       [184.     , 199.     ,   0.     ,   3.     ],\n",
              "       [  7.     ,  14.     ,   0.     ,   2.     ],\n",
              "       [ 15.     , 201.     ,   0.     ,   3.     ],\n",
              "       [ 16.     , 202.     ,   0.     ,   4.     ],\n",
              "       [109.     , 110.     ,   0.     ,   2.     ],\n",
              "       [ 48.     ,  49.     ,   0.     ,   2.     ],\n",
              "       [ 50.     , 205.     ,   0.     ,   3.     ],\n",
              "       [ 81.     ,  89.     ,   0.     ,   2.     ],\n",
              "       [ 42.     ,  43.     ,   0.     ,   2.     ],\n",
              "       [ 75.     , 144.     ,   0.00017,   2.     ],\n",
              "       [ 17.     , 139.     ,   0.00021,   2.     ],\n",
              "       [172.     , 187.     ,   0.00035,   3.     ],\n",
              "       [ 22.     , 209.     ,   0.00039,   3.     ],\n",
              "       [ 54.     , 212.     ,   0.0004 ,   4.     ],\n",
              "       [ 61.     , 168.     ,   0.00045,   2.     ],\n",
              "       [ 83.     , 183.     ,   0.00051,   2.     ],\n",
              "       [ 31.     ,  85.     ,   0.00055,   2.     ],\n",
              "       [127.     , 211.     ,   0.00067,   4.     ],\n",
              "       [210.     , 213.     ,   0.00068,   6.     ],\n",
              "       [ 29.     , 217.     ,   0.00071,   5.     ],\n",
              "       [ 55.     ,  72.     ,   0.00073,   2.     ],\n",
              "       [ 24.     , 141.     ,   0.00076,   2.     ],\n",
              "       [140.     , 154.     ,   0.00077,   2.     ],\n",
              "       [132.     , 222.     ,   0.00086,   3.     ],\n",
              "       [ 28.     , 188.     ,   0.00086,   3.     ],\n",
              "       [  0.     ,  25.     ,   0.00105,   2.     ],\n",
              "       [218.     , 219.     ,   0.00109,  11.     ],\n",
              "       [ 35.     , 215.     ,   0.00118,   3.     ],\n",
              "       [182.     , 226.     ,   0.00124,  12.     ],\n",
              "       [ 78.     , 133.     ,   0.00133,   2.     ],\n",
              "       [ 73.     , 134.     ,   0.00136,   2.     ],\n",
              "       [101.     , 160.     ,   0.00142,   2.     ],\n",
              "       [131.     , 173.     ,   0.00146,   2.     ],\n",
              "       [111.     , 228.     ,   0.00151,  13.     ],\n",
              "       [149.     , 155.     ,   0.00155,   2.     ],\n",
              "       [ 30.     , 227.     ,   0.00167,   4.     ],\n",
              "       [ 90.     , 178.     ,   0.00169,   2.     ],\n",
              "       [181.     , 236.     ,   0.00179,   3.     ],\n",
              "       [ 60.     , 233.     ,   0.0018 ,  14.     ],\n",
              "       [118.     , 231.     ,   0.00181,   3.     ],\n",
              "       [138.     , 220.     ,   0.0019 ,   3.     ],\n",
              "       [224.     , 237.     ,   0.00203,   6.     ],\n",
              "       [235.     , 238.     ,   0.00216,  18.     ],\n",
              "       [ 47.     , 241.     ,   0.00217,   7.     ],\n",
              "       [242.     , 243.     ,   0.0022 ,  25.     ],\n",
              "       [225.     , 244.     ,   0.00223,  27.     ],\n",
              "       [ 77.     , 153.     ,   0.00228,   2.     ],\n",
              "       [ 95.     , 245.     ,   0.00232,  28.     ],\n",
              "       [ 21.     ,  53.     ,   0.00283,   2.     ],\n",
              "       [ 23.     ,  96.     ,   0.00289,   2.     ],\n",
              "       [102.     , 167.     ,   0.00296,   2.     ],\n",
              "       [115.     , 247.     ,   0.00309,  29.     ],\n",
              "       [ 99.     , 152.     ,   0.00321,   2.     ],\n",
              "       [151.     , 240.     ,   0.00337,   4.     ],\n",
              "       [190.     , 248.     ,   0.00364,   4.     ],\n",
              "       [ 52.     , 229.     ,   0.00364,   3.     ],\n",
              "       [117.     , 239.     ,   0.00386,   4.     ],\n",
              "       [105.     , 122.     ,   0.00389,   2.     ],\n",
              "       [ 27.     , 216.     ,   0.00393,   3.     ],\n",
              "       [  6.     ,  51.     ,   0.00395,   2.     ],\n",
              "       [193.     , 194.     ,   0.00399,   6.     ],\n",
              "       [ 56.     , 136.     ,   0.00401,   2.     ],\n",
              "       [156.     , 256.     ,   0.00413,   5.     ],\n",
              "       [124.     , 145.     ,   0.00424,   2.     ],\n",
              "       [146.     , 189.     ,   0.00441,   3.     ],\n",
              "       [107.     , 255.     ,   0.00442,   4.     ],\n",
              "       [143.     , 246.     ,   0.00459,   3.     ],\n",
              "       [ 26.     , 262.     ,   0.0046 ,   6.     ],\n",
              "       [113.     , 263.     ,   0.00461,   3.     ],\n",
              "       [232.     , 251.     ,   0.00467,  31.     ],\n",
              "       [261.     , 266.     ,   0.0047 ,   5.     ],\n",
              "       [121.     , 169.     ,   0.00472,   2.     ],\n",
              "       [223.     , 257.     ,   0.00473,   5.     ],\n",
              "       [  3.     ,   8.     ,   0.00476,   2.     ],\n",
              "       [ 40.     , 269.     ,   0.00498,  32.     ],\n",
              "       [171.     , 268.     ,   0.00503,   4.     ],\n",
              "       [272.     , 275.     ,   0.00504,   9.     ],\n",
              "       [100.     , 274.     ,   0.00516,  33.     ],\n",
              "       [185.     , 249.     ,   0.00517,   3.     ],\n",
              "       [ 45.     ,  86.     ,   0.00567,   2.     ],\n",
              "       [126.     , 260.     ,   0.00568,   7.     ],\n",
              "       [253.     , 270.     ,   0.00572,   9.     ],\n",
              "       [271.     , 281.     ,   0.00581,  11.     ],\n",
              "       [ 80.     , 267.     ,   0.00588,   7.     ],\n",
              "       [186.     , 279.     ,   0.00591,   3.     ],\n",
              "       [ 11.     ,  93.     ,   0.00593,   2.     ],\n",
              "       [180.     , 252.     ,   0.00594,   3.     ],\n",
              "       [276.     , 278.     ,   0.006  ,  12.     ],\n",
              "       [157.     , 287.     ,   0.00607,  13.     ],\n",
              "       [ 66.     , 203.     ,   0.00614,   5.     ],\n",
              "       [ 33.     , 288.     ,   0.00618,  14.     ],\n",
              "       [258.     , 277.     ,   0.00635,  36.     ],\n",
              "       [ 34.     , 114.     ,   0.00639,   2.     ],\n",
              "       [106.     , 282.     ,   0.00641,  12.     ],\n",
              "       [142.     , 286.     ,   0.00651,   4.     ],\n",
              "       [130.     , 265.     ,   0.00655,   5.     ],\n",
              "       [283.     , 290.     ,   0.00675,  21.     ],\n",
              "       [ 68.     , 254.     ,   0.00679,   5.     ],\n",
              "       [234.     , 293.     ,   0.00704,  14.     ],\n",
              "       [ 20.     , 298.     ,   0.00705,  15.     ],\n",
              "       [291.     , 296.     ,   0.00718,  57.     ],\n",
              "       [137.     , 297.     ,   0.00727,   6.     ],\n",
              "       [250.     , 264.     ,   0.0074 ,   5.     ],\n",
              "       [ 94.     , 302.     ,   0.00744,   6.     ],\n",
              "       [207.     , 292.     ,   0.00745,   4.     ],\n",
              "       [299.     , 301.     ,   0.00767,  21.     ],\n",
              "       [170.     , 305.     ,   0.00779,  22.     ],\n",
              "       [ 10.     , 112.     ,   0.00789,   2.     ],\n",
              "       [ 87.     , 175.     ,   0.00791,   2.     ],\n",
              "       [ 84.     , 158.     ,   0.00795,   2.     ],\n",
              "       [123.     , 196.     ,   0.00802,   3.     ],\n",
              "       [ 79.     , 285.     ,   0.00804,   3.     ],\n",
              "       [300.     , 303.     ,   0.0081 ,  63.     ],\n",
              "       [ 63.     , 273.     ,   0.00818,   3.     ],\n",
              "       [128.     , 306.     ,   0.00839,  23.     ],\n",
              "       [ 82.     ,  97.     ,   0.00847,   2.     ],\n",
              "       [221.     , 312.     ,   0.00868,  65.     ],\n",
              "       [166.     , 307.     ,   0.00905,   3.     ],\n",
              "       [104.     , 108.     ,   0.00913,   2.     ],\n",
              "       [ 44.     , 230.     ,   0.00917,   3.     ],\n",
              "       [310.     , 318.     ,   0.00958,   5.     ],\n",
              "       [ 88.     , 311.     ,   0.00995,   4.     ],\n",
              "       [309.     , 316.     ,   0.01036,  67.     ],\n",
              "       [174.     , 314.     ,   0.01044,  24.     ],\n",
              "       [295.     , 322.     ,   0.0105 ,  72.     ],\n",
              "       [323.     , 324.     ,   0.01077,  96.     ],\n",
              "       [308.     , 325.     ,   0.01088,  98.     ],\n",
              "       [ 98.     , 280.     ,   0.0111 ,   8.     ],\n",
              "       [ 46.     , 326.     ,   0.01133,  99.     ],\n",
              "       [177.     , 198.     ,   0.01134,   4.     ],\n",
              "       [294.     , 329.     ,   0.01165,   8.     ],\n",
              "       [327.     , 328.     ,   0.01166, 107.     ],\n",
              "       [195.     , 331.     ,   0.01181, 109.     ],\n",
              "       [ 57.     , 332.     ,   0.01191, 110.     ],\n",
              "       [ 70.     , 214.     ,   0.01206,   3.     ],\n",
              "       [162.     , 317.     ,   0.01209,   4.     ],\n",
              "       [284.     , 334.     ,   0.01212,   6.     ],\n",
              "       [206.     , 313.     ,   0.01214,   6.     ],\n",
              "       [320.     , 321.     ,   0.01215,   9.     ],\n",
              "       [150.     , 338.     ,   0.01225,  10.     ],\n",
              "       [ 62.     , 147.     ,   0.01237,   2.     ],\n",
              "       [330.     , 339.     ,   0.01277,  18.     ],\n",
              "       [161.     , 319.     ,   0.01298,   4.     ],\n",
              "       [135.     , 304.     ,   0.01298,   5.     ],\n",
              "       [333.     , 341.     ,   0.01418, 128.     ],\n",
              "       [ 74.     ,  76.     ,   0.01561,   2.     ],\n",
              "       [ 64.     , 337.     ,   0.01564,   7.     ],\n",
              "       [200.     , 344.     ,   0.01611, 131.     ],\n",
              "       [204.     , 289.     ,   0.01665,   7.     ],\n",
              "       [259.     , 347.     ,   0.01673, 133.     ],\n",
              "       [345.     , 349.     ,   0.01673, 135.     ],\n",
              "       [ 13.     , 348.     ,   0.01673,   8.     ],\n",
              "       [335.     , 350.     ,   0.01698, 139.     ],\n",
              "       [ 32.     , 351.     ,   0.01726,   9.     ],\n",
              "       [179.     , 343.     ,   0.01731,   6.     ],\n",
              "       [ 38.     , 352.     ,   0.01769, 140.     ],\n",
              "       [ 41.     , 336.     ,   0.01786,   7.     ],\n",
              "       [342.     , 355.     ,   0.01813, 144.     ],\n",
              "       [ 91.     , 346.     ,   0.01875,   8.     ],\n",
              "       [340.     , 353.     ,   0.02009,  11.     ],\n",
              "       [ 12.     , 359.     ,   0.02613,  12.     ],\n",
              "       [116.     , 354.     ,   0.0284 ,   7.     ],\n",
              "       [357.     , 360.     ,   0.02857, 156.     ],\n",
              "       [  9.     , 358.     ,   0.03039,   9.     ],\n",
              "       [356.     , 362.     ,   0.0304 , 163.     ],\n",
              "       [129.     , 361.     ,   0.03097,   8.     ],\n",
              "       [ 39.     , 363.     ,   0.03886,  10.     ],\n",
              "       [364.     , 366.     ,   0.03941, 173.     ],\n",
              "       [365.     , 367.     ,   0.04503, 181.     ],\n",
              "       [208.     , 368.     ,   0.04565, 183.     ],\n",
              "       [ 65.     , 369.     ,   0.08189, 184.     ],\n",
              "       [315.     , 370.     ,   0.08202, 186.     ],\n",
              "       [ 92.     , 371.     ,   0.09194, 187.     ]])"
            ]
          },
          "metadata": {},
          "execution_count": 13
        }
      ]
    },
    {
      "cell_type": "code",
      "source": [
        "from scipy.cluster.hierarchy import cophenet\n",
        "from scipy.spatial.distance import pdist\n",
        "\n",
        "\n",
        "c, coph_dists = cophenet(Y,pdist(datas))\n",
        "print(c)"
      ],
      "metadata": {
        "colab": {
          "base_uri": "https://localhost:8080/"
        },
        "id": "s_kw3GXgT3qp",
        "outputId": "27fe57ec-3d3b-4e5c-dc5f-dc2a78beba51"
      },
      "execution_count": null,
      "outputs": [
        {
          "output_type": "stream",
          "name": "stdout",
          "text": [
            "0.8166908631066369\n"
          ]
        }
      ]
    },
    {
      "cell_type": "code",
      "source": [
        "plt.figure(figsize=(15, 12))\n",
        "plt.title('Dendrograma')\n",
        "dendrogram(Z)\n",
        "plt.show()"
      ],
      "metadata": {
        "colab": {
          "base_uri": "https://localhost:8080/",
          "height": 701
        },
        "id": "xsVU86tdT8Zx",
        "outputId": "1191908f-0ff4-49d0-f2b5-1435b32420e7"
      },
      "execution_count": null,
      "outputs": [
        {
          "output_type": "display_data",
          "data": {
            "text/plain": [
              "<Figure size 1080x864 with 1 Axes>"
            ],
            "image/png": "[encoded data removed]"
          },
          "metadata": {
            "needs_background": "light"
          }
        }
      ]
    },
    {
      "cell_type": "code",
      "source": [
        "def fancy_dendrogram(*args, **kwargs):\n",
        "    max_d = kwargs.pop('max_d', None)\n",
        "    if max_d and 'color_threshold' not in kwargs:\n",
        "        kwargs['color_threshold'] = max_d\n",
        "    annotate_above = kwargs.pop('annotate_above', 0)\n",
        "\n",
        "    ddata = dendrogram(*args, **kwargs)\n",
        "\n",
        "    if not kwargs.get('no_plot', False):\n",
        "        plt.title('Hierarchical Clustering Dendrogram (truncated)')\n",
        "        plt.xlabel('sample index or (cluster size)')\n",
        "        plt.ylabel('distance')\n",
        "        for i, d, c in zip(ddata['icoord'], ddata['dcoord'], ddata['color_list']):\n",
        "            x = 0.5 * sum(i[1:3])\n",
        "            y = d[1]\n",
        "            if y > annotate_above:\n",
        "                plt.plot(x, y, 'o', c=c)\n",
        "                plt.annotate(\"%.3g\" % y, (x, y), xytext=(0, -5),\n",
        "                             textcoords='offset points',\n",
        "                             va='top', ha='center')\n",
        "        if max_d:\n",
        "            plt.axhline(y=max_d, c='k')\n",
        "    return ddata"
      ],
      "metadata": {
        "id": "hWtoTbGpUCma"
      },
      "execution_count": null,
      "outputs": []
    },
    {
      "cell_type": "code",
      "source": [
        "d_max = 0.2\n",
        "\n",
        "\n",
        "fancy_dendrogram(\n",
        "    Z,\n",
        "    truncate_mode='lastp',\n",
        "    p=10,\n",
        "    leaf_rotation=90.,\n",
        "    leaf_font_size=12.,\n",
        "    show_contracted=True,\n",
        "    annotate_above=1,\n",
        "    max_d=d_max,  # plot a horizontal cut-off line\n",
        ")\n",
        "plt.show()"
      ],
      "metadata": {
        "colab": {
          "base_uri": "https://localhost:8080/",
          "height": 315
        },
        "id": "xXWgljxmUK7y",
        "outputId": "58cb8a6f-d81d-4bf3-b1c1-1ef86a35e31f"
      },
      "execution_count": null,
      "outputs": [
        {
          "output_type": "display_data",
          "data": {
            "text/plain": [
              "<Figure size 432x288 with 1 Axes>"
            ],
            "image/png": "[encoded data removed]"
          },
          "metadata": {
            "needs_background": "light"
          }
        }
      ]
    },
    {
      "cell_type": "code",
      "source": [
        "from sklearn.cluster import AgglomerativeClustering\n",
        "\n",
        "cluster= AgglomerativeClustering(n_clusters=13, affinity=\"euclidean\", linkage=\"ward\" )\n",
        "clusters=cluster.fit_predict(datas)\n",
        "print(clusters)"
      ],
      "metadata": {
        "colab": {
          "base_uri": "https://localhost:8080/"
        },
        "id": "GaP3ZdCqUNN2",
        "outputId": "8cc80803-60f5-4276-9cb5-d3656b1ade8e"
      },
      "execution_count": null,
      "outputs": [
        {
          "output_type": "stream",
          "name": "stdout",
          "text": [
            "[ 8  0  0  5  4  4  4  7  5  5  0  9  7  7  7  7  7  8  0  0  0  0  8  2\n",
            "  2  8  2  8  8  8  8  8  7  2  1  8  3  3  9  5  8 12 11 11  3 12  2  8\n",
            "  5  5  5  4  2  0  8  0  0  0  8  8  8 12  4  5  5  6  7  8  0  8 12  9\n",
            "  0  3  8  8  8  0  2  9  2  1  6  8  9  8 12  0  9  1  8  5 10  9  2  8\n",
            "  2  6  2  9  8  2  2  3  4  8  0  2  4  7  7  8  0  2  1  8  1  2  2  2\n",
            "  2  0  8  4  2  9  3  8  2  1  2  8  8  2  3  1  0  0  0  8  8  2  9  0\n",
            "  8  2  2  4  9  0  9  0  9  0  8  0  2  2  9  3  2  3  0  3  2  2  0  2\n",
            " 12  0  0  2  8  8  2  0  3  9  8  1  9  8  8  8  2  2 12]\n"
          ]
        }
      ]
    },
    {
      "cell_type": "code",
      "source": [
        "plt.figure(figsize=(13, 7))\n",
        "plt.scatter(datas[:,0], datas[:,1], c=cluster.labels_, cmap='rainbow')"
      ],
      "metadata": {
        "colab": {
          "base_uri": "https://localhost:8080/",
          "height": 448
        },
        "id": "OCnZJxGaUUVq",
        "outputId": "5e6a2094-6a9a-4db2-81de-03ebb60ef5d5"
      },
      "execution_count": null,
      "outputs": [
        {
          "output_type": "execute_result",
          "data": {
            "text/plain": [
              "<matplotlib.collections.PathCollection at 0x7f2d19e31b50>"
            ]
          },
          "metadata": {},
          "execution_count": 19
        },
        {
          "output_type": "display_data",
          "data": {
            "text/plain": [
              "<Figure size 936x504 with 1 Axes>"
            ],
            "image/png": "[encoded data removed]"
          },
          "metadata": {
            "needs_background": "light"
          }
        }
      ]
    },
    {
      "cell_type": "code",
      "source": [
        "import seaborn as sns\n",
        "sns.set(color_codes=True)\n",
        "sns.clustermap(Z, standard_scale=1)"
      ],
      "metadata": {
        "colab": {
          "base_uri": "https://localhost:8080/",
          "height": 745
        },
        "id": "NJDjlYxPUdEP",
        "outputId": "3b059912-c7cd-48fb-f02c-fdd6cdc6ff5f"
      },
      "execution_count": null,
      "outputs": [
        {
          "output_type": "execute_result",
          "data": {
            "text/plain": [
              "<seaborn.matrix.ClusterGrid at 0x7f2d19a8c290>"
            ]
          },
          "metadata": {},
          "execution_count": 20
        },
        {
          "output_type": "display_data",
          "data": {
            "text/plain": [
              "<Figure size 720x720 with 4 Axes>"
            ],
            "image/png": "[encoded data removed]"
          },
          "metadata": {}
        }
      ]
    },
    {
      "cell_type": "code",
      "source": [
        "from sklearn.cluster import KMeans\n",
        "import matplotlib.pyplot as plt"
      ],
      "metadata": {
        "id": "5a7F7gntUjd5"
      },
      "execution_count": null,
      "outputs": []
    },
    {
      "cell_type": "code",
      "source": [
        "kmeans =KMeans(n_clusters=13,random_state=0)\n",
        "clusters =kmeans.fit_predict(datas.data)\n",
        "kmeans.cluster_centers_.shape"
      ],
      "metadata": {
        "colab": {
          "base_uri": "https://localhost:8080/"
        },
        "id": "ct0DfBDdUmSD",
        "outputId": "89a223b6-75ff-4abb-e003-07f120ee8f11"
      },
      "execution_count": null,
      "outputs": [
        {
          "output_type": "execute_result",
          "data": {
            "text/plain": [
              "(13, 2)"
            ]
          },
          "metadata": {},
          "execution_count": 22
        }
      ]
    },
    {
      "cell_type": "code",
      "source": [
        "from sklearn import metrics\n",
        "\n",
        "distortions = []\n",
        "silhouettes = []\n",
        "\n",
        "for i in range(2, 20):\n",
        "    km = KMeans(i, init='random', n_init=10, max_iter=300, tol=1e-4, random_state=42)\n",
        "    clustering = km.fit_predict(datas.data)\n",
        "    distortions.append(km.inertia_)\n",
        "    silhouettes.append(metrics.silhouette_score(datas.data, clustering))"
      ],
      "metadata": {
        "id": "WCrrf6K3UqQv"
      },
      "execution_count": null,
      "outputs": []
    },
    {
      "cell_type": "code",
      "source": [
        "plt.plot(range(2,20), distortions, marker='o')\n",
        "plt.xticks(range(2, 20))\n",
        "plt.xlabel('K')\n",
        "plt.ylabel('Distortion')\n",
        "plt.grid(True)\n",
        "plt.show()"
      ],
      "metadata": {
        "colab": {
          "base_uri": "https://localhost:8080/",
          "height": 285
        },
        "id": "u6g_wbeRUtpc",
        "outputId": "bc486f26-6550-44e9-ab4a-a37ab7f07b71"
      },
      "execution_count": null,
      "outputs": [
        {
          "output_type": "display_data",
          "data": {
            "text/plain": [
              "<Figure size 432x288 with 1 Axes>"
            ],
            "image/png": "[encoded data removed]"
          },
          "metadata": {}
        }
      ]
    },
    {
      "cell_type": "code",
      "source": [
        "plt.plot(range(2,20), silhouettes , marker='o')\n",
        "plt.xticks(range(2, 20))\n",
        "plt.xlabel('K')\n",
        "plt.ylabel('Silohouette')\n",
        "plt.grid(True)\n",
        "plt.show()"
      ],
      "metadata": {
        "colab": {
          "base_uri": "https://localhost:8080/",
          "height": 285
        },
        "id": "9KAllSJfUzEP",
        "outputId": "fbecfea0-a21d-4a40-ef07-d9e73531b49e"
      },
      "execution_count": null,
      "outputs": [
        {
          "output_type": "display_data",
          "data": {
            "text/plain": [
              "<Figure size 432x288 with 1 Axes>"
            ],
            "image/png": "[encoded data removed]"
          },
          "metadata": {}
        }
      ]
    },
    {
      "cell_type": "code",
      "source": [
        "import numpy as np\n",
        "import matplotlib.pyplot as plt\n",
        "from sklearn.datasets import make_blobs\n",
        "from sklearn.cluster import KMeans\n"
      ],
      "metadata": {
        "id": "Rf3TNusVVCTW"
      },
      "execution_count": null,
      "outputs": []
    },
    {
      "cell_type": "code",
      "source": [
        "from sklearn.preprocessing import StandardScaler"
      ],
      "metadata": {
        "id": "jTPBFRC3VE5W"
      },
      "execution_count": null,
      "outputs": []
    },
    {
      "cell_type": "code",
      "source": [
        "scaler =StandardScaler()\n",
        "datas_scaled = scaler.fit_transform(datas)"
      ],
      "metadata": {
        "id": "ypkwEJHuVIIF"
      },
      "execution_count": null,
      "outputs": []
    },
    {
      "cell_type": "code",
      "source": [
        "# plot\n",
        "plt.scatter(datas_scaled[:, 0], datas_scaled[:, 1])\n",
        "plt.xlabel(\"No Semana\")\n",
        "plt.ylabel(\"Precipitación\")\n",
        "plt.show()"
      ],
      "metadata": {
        "colab": {
          "base_uri": "https://localhost:8080/",
          "height": 285
        },
        "id": "gjwHQeFvVK92",
        "outputId": "70de0ef2-87e2-4c96-eba1-0e57ddde018a"
      },
      "execution_count": null,
      "outputs": [
        {
          "output_type": "display_data",
          "data": {
            "text/plain": [
              "<Figure size 432x288 with 1 Axes>"
            ],
            "image/png": "[encoded data removed]"
          },
          "metadata": {}
        }
      ]
    },
    {
      "cell_type": "code",
      "source": [
        "\n",
        "kmeans = KMeans(n_clusters=13, init=\"random\", n_init=1)\n",
        "y_pred = kmeans.fit_predict(datas_scaled)\n",
        "\n",
        "\n",
        "plt.scatter(datas_scaled[:, 0], datas_scaled[:, 1], c=y_pred, cmap=\"jet\")\n",
        "plt.scatter(kmeans.cluster_centers_[:, 0],   \n",
        "            kmeans.cluster_centers_[:, 1],\n",
        "            marker='^', \n",
        "            c=[0, 1, 2, 3, 4, 5, 6, 7, 8, 9, 10, 11, 12], \n",
        "            s=100, \n",
        "            linewidth=2,\n",
        "            edgecolor='black',\n",
        "            cmap=\"jet\")\n",
        "plt.xlabel(\"Feature 0\")\n",
        "plt.ylabel(\"Feature 1\")"
      ],
      "metadata": {
        "colab": {
          "base_uri": "https://localhost:8080/",
          "height": 302
        },
        "id": "diIYHbeNVPr4",
        "outputId": "17d03d02-9804-4d3e-eefd-d06046592b60"
      },
      "execution_count": null,
      "outputs": [
        {
          "output_type": "execute_result",
          "data": {
            "text/plain": [
              "Text(0, 0.5, 'Feature 1')"
            ]
          },
          "metadata": {},
          "execution_count": 35
        },
        {
          "output_type": "display_data",
          "data": {
            "text/plain": [
              "<Figure size 432x288 with 1 Axes>"
            ],
            "image/png": "[encoded data removed]"
          },
          "metadata": {}
        }
      ]
    },
    {
      "cell_type": "code",
      "source": [
        "from sklearn.cluster import DBSCAN"
      ],
      "metadata": {
        "id": "dYHoI1iSVUiZ"
      },
      "execution_count": null,
      "outputs": []
    },
    {
      "cell_type": "code",
      "source": [
        "\n",
        "dbscan =DBSCAN(eps=0.15,min_samples=2)\n",
        "clusters = dbscan.fit_predict(datas_scaled)"
      ],
      "metadata": {
        "id": "P9uw8Ze_VXuh"
      },
      "execution_count": null,
      "outputs": []
    },
    {
      "cell_type": "code",
      "source": [
        "# plot the cluster assignments\n",
        "plt.scatter(datas[:, 0], datas[:, 1], c=clusters, cmap='jet')\n",
        "plt.xlabel(\"Feature 0\")\n",
        "plt.ylabel(\"Feature 1\")"
      ],
      "metadata": {
        "id": "X4PL7XslVb9o",
        "outputId": "e7b48486-b281-488b-ec96-57caaa9ddf80",
        "colab": {
          "base_uri": "https://localhost:8080/",
          "height": 302
        }
      },
      "execution_count": null,
      "outputs": [
        {
          "output_type": "execute_result",
          "data": {
            "text/plain": [
              "Text(0, 0.5, 'Feature 1')"
            ]
          },
          "metadata": {},
          "execution_count": 125
        },
        {
          "output_type": "display_data",
          "data": {
            "text/plain": [
              "<Figure size 432x288 with 1 Axes>"
            ],
            "image/png": "[encoded data removed]"
          },
          "metadata": {}
        }
      ]
    }
  ]
}